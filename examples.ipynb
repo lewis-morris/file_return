{
 "cells": [
  {
   "cell_type": "markdown",
   "metadata": {
    "collapsed": true,
    "pycharm": {
     "name": "#%% md\n"
    }
   },
   "source": [
    "# FileReturn\n",
    "\n",
    "## Used to return random files from directories and sub directories.\n",
    "\n",
    "#### I am constantly trying to gather a random image for tesing CNN's and thought this would help me tidy up my code and my work flow.\n",
    "--------------------------------------------------------------\n",
    "\n",
    "## Basic Usage\n",
    "\n",
    "> Will return random file path from current working directory"
   ]
  },
  {
   "cell_type": "code",
   "execution_count": 4,
   "outputs": [
    {
     "data": {
      "text/plain": "'./.git/objects/8a/9c518a6017341a4a05061faef5841ebcc42c3f'"
     },
     "execution_count": 4,
     "metadata": {},
     "output_type": "execute_result"
    }
   ],
   "source": [
    "from FileReturn import file_return\n",
    "\n",
    "fl = file_return(ext=[])\n",
    "fl.return_files()"
   ],
   "metadata": {
    "collapsed": false,
    "pycharm": {
     "name": "#%%\n"
    }
   }
  },
  {
   "cell_type": "markdown",
   "source": [
    "> Will return random file path from specified directory ONLY with only .py file ext.\n",
    ">"
   ],
   "metadata": {
    "collapsed": false
   }
  },
  {
   "cell_type": "code",
   "execution_count": 5,
   "outputs": [
    {
     "data": {
      "text/plain": "'./setup.py'"
     },
     "execution_count": 5,
     "metadata": {},
     "output_type": "execute_result"
    }
   ],
   "source": [
    "fl = file_return(include_sub=False, ext=[\".py\"])\n",
    "fl.return_files()"
   ],
   "metadata": {
    "collapsed": false,
    "pycharm": {
     "name": "#%%\n"
    }
   }
  },
  {
   "cell_type": "markdown",
   "source": [
    "> Will return full list of files in specified directory and all subfolders with only .py or .ipynb file ext.\n",
    ">"
   ],
   "metadata": {
    "collapsed": false
   }
  },
  {
   "cell_type": "code",
   "execution_count": 6,
   "outputs": [
    {
     "data": {
      "text/plain": "['./setup.py',\n './examples.ipynb',\n './FileReturn/__init__.py',\n './FileReturn/func.py']"
     },
     "execution_count": 6,
     "metadata": {},
     "output_type": "execute_result"
    }
   ],
   "source": [
    "fl = file_return(directory=\"./\", include_sub=True, ext=[\".py\",\".ipynb\"],return_list=True )\n",
    "fl.return_files()"
   ],
   "metadata": {
    "collapsed": false,
    "pycharm": {
     "name": "#%%\n"
    }
   }
  }
 ],
 "metadata": {
  "kernelspec": {
   "display_name": "Python 3",
   "language": "python",
   "name": "python3"
  },
  "language_info": {
   "codemirror_mode": {
    "name": "ipython",
    "version": 2
   },
   "file_extension": ".py",
   "mimetype": "text/x-python",
   "name": "python",
   "nbconvert_exporter": "python",
   "pygments_lexer": "ipython2",
   "version": "2.7.6"
  }
 },
 "nbformat": 4,
 "nbformat_minor": 0
}