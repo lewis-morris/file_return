{
 "cells": [
  {
   "cell_type": "markdown",
   "metadata": {
    "collapsed": true,
    "pycharm": {
     "name": "#%% md\n"
    }
   },
   "source": [
    "# FileReturn\n",
    "\n",
    "## Used to return random files paths from directories and/or  sub directories.\n",
    "\n",
    "> Useful when testing image transforms etc. I find I am constantly trying to gather\n",
    "> a random images while working with CNN's\n",
    "> I've made made this to help me tidy up my code.\n",
    ">\n",
    "> Simple and easy.\n",
    "\n",
    "--------------------------------------------------------------\n",
    "\n",
    "## Basic Usage\n",
    "\n",
    "> Will return random file path from current working directory"
   ]
  },
  {
   "cell_type": "code",
   "execution_count": 25,
   "outputs": [
    {
     "data": {
      "text/plain": "'./.idea/workspace.xml'"
     },
     "execution_count": 25,
     "metadata": {},
     "output_type": "execute_result"
    }
   ],
   "source": [
    "from FileReturn import file_return\n",
    "\n",
    "fl = file_return(ext=[])\n",
    "fl.return_files()"
   ],
   "metadata": {
    "collapsed": false,
    "pycharm": {
     "name": "#%%\n"
    }
   }
  },
  {
   "cell_type": "markdown",
   "source": [
    "> Will return random file path from specified directory ONLY with only .py file ext.\n",
    ">"
   ],
   "metadata": {
    "collapsed": false
   }
  },
  {
   "cell_type": "code",
   "execution_count": 26,
   "outputs": [
    {
     "data": {
      "text/plain": "'./FileReturn/func.py'"
     },
     "execution_count": 26,
     "metadata": {},
     "output_type": "execute_result"
    }
   ],
   "source": [
    "fl = file_return(include_sub=False, ext=[\".py\"])\n",
    "fl.return_files()"
   ],
   "metadata": {
    "collapsed": false,
    "pycharm": {
     "name": "#%%\n"
    }
   }
  },
  {
   "cell_type": "markdown",
   "source": [
    "> Will return full list of files in specified directory and all subfolders with only .py or .ipynb file ext.\n",
    ">"
   ],
   "metadata": {
    "collapsed": false
   }
  },
  {
   "cell_type": "code",
   "execution_count": 27,
   "outputs": [
    {
     "data": {
      "text/plain": "['./setup.py',\n './examples.ipynb',\n './FileReturn/__init__.py',\n './FileReturn/func.py']"
     },
     "execution_count": 27,
     "metadata": {},
     "output_type": "execute_result"
    }
   ],
   "source": [
    "fl = file_return(directory=\"./\", include_sub=True, ext=[\".py\",\".ipynb\"],return_list=True )\n",
    "fl.return_files()"
   ],
   "metadata": {
    "collapsed": false,
    "pycharm": {
     "name": "#%%\n"
    }
   }
  }
 ],
 "metadata": {
  "kernelspec": {
   "display_name": "Python 3",
   "language": "python",
   "name": "python3"
  },
  "language_info": {
   "codemirror_mode": {
    "name": "ipython",
    "version": 2
   },
   "file_extension": ".py",
   "mimetype": "text/x-python",
   "name": "python",
   "nbconvert_exporter": "python",
   "pygments_lexer": "ipython2",
   "version": "2.7.6"
  }
 },
 "nbformat": 4,
 "nbformat_minor": 0
}